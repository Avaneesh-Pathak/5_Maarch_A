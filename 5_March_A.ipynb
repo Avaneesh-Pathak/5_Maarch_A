{
 "cells": [
  {
   "cell_type": "markdown",
   "metadata": {},
   "source": [
    "Q1. How can you create a Bokeh plot using Python code?\n",
    "\n",
    "Q2. What are glyphs in Bokeh, and how can you add them to a Bokeh plot? Explain with an example.\n",
    "\n",
    "Q3. How can you customize the appearance of a Bokeh plot, including the axes, title, and legend?\n",
    "\n",
    "Q4. What is a Bokeh server, and how can you use it to create interactive plots that can be updated in\n",
    "real time?\n",
    "\n",
    "Q5. How can you embed a Bokeh plot into a web page or dashboard using Flask or Django?"
   ]
  },
  {
   "cell_type": "code",
   "execution_count": null,
   "metadata": {},
   "outputs": [],
   "source": []
  },
  {
   "cell_type": "code",
   "execution_count": 1,
   "metadata": {},
   "outputs": [],
   "source": [
    "# importing neccessary libraries \n",
    "from bokeh.plotting import figure ,show"
   ]
  },
  {
   "cell_type": "code",
   "execution_count": 2,
   "metadata": {},
   "outputs": [],
   "source": [
    "# Create a figure object\n",
    "p = figure()\n",
    "\n",
    "# Add data and customize the plot\n",
    "\n",
    "p.circle([1, 2, 3], [4, 5, 6])  # Example of adding data points\n",
    "p.title.text = \"My Bokeh Plot\"  # Example of customizing the title\n",
    "\n",
    "\n",
    "# Display the plot\n",
    "from bokeh.plotting import figure, show\n",
    "\n",
    "p = figure()\n",
    "p.circle([1, 2, 3], [4, 5, 6], size=10, color='red')\n",
    "\n",
    "show(p)\n"
   ]
  },
  {
   "cell_type": "markdown",
   "metadata": {},
   "source": []
  },
  {
   "cell_type": "markdown",
   "metadata": {},
   "source": [
    " In Bokeh, glyphs are visual markers that represent data points. They can be used to visualize various types of data, such as lines, circles, squares, and more. To add glyphs to a Bokeh plot, you use glyph methods provided by the figure object."
   ]
  },
  {
   "cell_type": "code",
   "execution_count": null,
   "metadata": {},
   "outputs": [],
   "source": [
    "from bokeh.plotting import figure, show\n",
    "\n",
    "p = figure()\n",
    "p.circle([1, 2, 3], [4, 5, 6], size=10, color='red')\n",
    "\n",
    "show(p)\n"
   ]
  },
  {
   "cell_type": "markdown",
   "metadata": {},
   "source": []
  },
  {
   "cell_type": "code",
   "execution_count": 3,
   "metadata": {},
   "outputs": [
    {
     "name": "stderr",
     "output_type": "stream",
     "text": [
      "d:\\Anaconda.py\\lib\\site-packages\\bokeh\\models\\plots.py:815: UserWarning: \n",
      "You are attempting to set `plot.legend.location` on a plot that has zero legends added, this will have no effect.\n",
      "\n",
      "Before legend properties can be set, you must add a Legend explicitly, or call a glyph method with a legend parameter set.\n",
      "\n",
      "  warnings.warn(_LEGEND_EMPTY_WARNING % attr)\n",
      "d:\\Anaconda.py\\lib\\site-packages\\bokeh\\models\\plots.py:815: UserWarning: \n",
      "You are attempting to set `plot.legend.title` on a plot that has zero legends added, this will have no effect.\n",
      "\n",
      "Before legend properties can be set, you must add a Legend explicitly, or call a glyph method with a legend parameter set.\n",
      "\n",
      "  warnings.warn(_LEGEND_EMPTY_WARNING % attr)\n"
     ]
    }
   ],
   "source": [
    "# Axes customization\n",
    "p.xaxis.axis_label = \"X-axis\"\n",
    "p.yaxis.axis_label = \"Y-axis\"\n",
    "p.xaxis.major_label_text_color = \"blue\"\n",
    "p.yaxis.major_label_text_color = \"green\"\n",
    "\n",
    "\n",
    "# Title customization\n",
    "p.title.text = \"My Bokeh Plot\"\n",
    "p.title.text_color = \"orange\"\n",
    "p.title.text_font_size = \"14pt\"\n",
    "\n",
    "# Legend customization\n",
    "\n",
    "p.legend.location = \"top_left\"\n",
    "p.legend.title = \"Legend\"\n",
    "\n"
   ]
  },
  {
   "cell_type": "markdown",
   "metadata": {},
   "source": []
  },
  {
   "cell_type": "markdown",
   "metadata": {},
   "source": [
    "The Bokeh server is a Python library that allows you to create interactive plots that can be updated in real time. It enables you to build web applications with rich, interactive visualizations powered by Bokeh."
   ]
  },
  {
   "cell_type": "code",
   "execution_count": null,
   "metadata": {},
   "outputs": [],
   "source": [
    "from bokeh.io import curdoc\n",
    "from bokeh.plotting import figure\n",
    "from bokeh.models import ColumnDataSource\n",
    "from bokeh.layouts import row\n",
    "\n",
    "# Create a figure and data source\n",
    "p = figure()\n",
    "source = ColumnDataSource(data=dict(x=[1, 2, 3], y=[4, 5, 6]))\n",
    "\n",
    "# Add glyphs to the plot\n",
    "p.circle('x', 'y', source=source)\n",
    "\n",
    "# Define a callback function to update the plot\n",
    "def update():\n",
    "    new_data = dict(x=[4, 5, 6], y=[7, 8, 9])\n",
    "    source.data = new_data\n",
    "\n",
    "# Add a button to trigger the update\n",
    "button = Button(label=\"Update\", button_type=\"success\")\n",
    "button.on_click(update)\n",
    "\n",
    "# Create a layout for the plot and button\n",
    "layout = row(p, button)\n",
    "\n",
    "# Add the layout to the current document\n",
    "curdoc().add_root(layout)\n"
   ]
  },
  {
   "cell_type": "markdown",
   "metadata": {},
   "source": []
  },
  {
   "cell_type": "markdown",
   "metadata": {},
   "source": [
    ". To embed a Bokeh plot into a web page or dashboard using Flask or Django, you can follow these general steps:\n",
    "\n",
    "Generate the Bokeh plot as described earlier, saving it to a file or returning it as an HTML string.\n",
    "Create a Flask or Django application with a route that renders the HTML page.\n",
    "Add the necessary Bokeh resources to the HTML page. This includes importing the Bokeh JavaScript and CSS files.\n",
    "Insert the Bokeh plot into the HTML page, either by including the saved file or embedding the HTML string.\n",
    "Start the Flask or Django server and navigate to the specified route to view the embedded Bokeh plot."
   ]
  },
  {
   "cell_type": "code",
   "execution_count": 6,
   "metadata": {},
   "outputs": [
    {
     "name": "stdout",
     "output_type": "stream",
     "text": [
      " * Serving Flask app '__main__'\n",
      " * Debug mode: off\n"
     ]
    },
    {
     "name": "stderr",
     "output_type": "stream",
     "text": [
      "WARNING: This is a development server. Do not use it in a production deployment. Use a production WSGI server instead.\n",
      " * Running on http://127.0.0.1:5000\n",
      "Press CTRL+C to quit\n"
     ]
    }
   ],
   "source": [
    "from flask import Flask, render_template\n",
    "from bokeh.plotting import figure\n",
    "from bokeh.embed import components\n",
    "\n",
    "app = Flask(__name__)\n",
    "\n",
    "@app.route('/')\n",
    "def index():\n",
    "    p = figure()\n",
    "    p.circle([1, 2, 3], [4, 5, 6])\n",
    "    script, div = components(p)\n",
    "    return render_template('index.html', script=script, div=div)\n",
    "\n",
    "if __name__ == '__main__':\n",
    "    app.run()\n"
   ]
  },
  {
   "cell_type": "code",
   "execution_count": 5,
   "metadata": {
    "vscode": {
     "languageId": "html"
    }
   },
   "outputs": [
    {
     "ename": "SyntaxError",
     "evalue": "invalid syntax (1937466952.py, line 1)",
     "output_type": "error",
     "traceback": [
      "\u001b[1;36m  Cell \u001b[1;32mIn[5], line 1\u001b[1;36m\u001b[0m\n\u001b[1;33m    <html>\u001b[0m\n\u001b[1;37m    ^\u001b[0m\n\u001b[1;31mSyntaxError\u001b[0m\u001b[1;31m:\u001b[0m invalid syntax\n"
     ]
    }
   ],
   "source": [
    "\n",
    "<html>\n",
    "<head>\n",
    "    <!-- Add necessary CSS and JavaScript resources -->\n",
    "    {{ script }}\n",
    "</head>\n",
    "<body>\n",
    "    <!-- Insert the Bokeh plot -->\n",
    "    {{ div }}\n",
    "</body>\n",
    "</html>\n"
   ]
  }
 ],
 "metadata": {
  "kernelspec": {
   "display_name": "base",
   "language": "python",
   "name": "python3"
  },
  "language_info": {
   "codemirror_mode": {
    "name": "ipython",
    "version": 3
   },
   "file_extension": ".py",
   "mimetype": "text/x-python",
   "name": "python",
   "nbconvert_exporter": "python",
   "pygments_lexer": "ipython3",
   "version": "3.10.9"
  },
  "orig_nbformat": 4
 },
 "nbformat": 4,
 "nbformat_minor": 2
}
